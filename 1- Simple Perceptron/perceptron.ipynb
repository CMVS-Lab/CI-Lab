{
 "cells": [
  {
   "cell_type": "code",
   "execution_count": 29,
   "metadata": {},
   "outputs": [],
   "source": [
    "import numpy as np\n",
    "\n",
    "class perceptron:\n",
    "    def __init__(self, input_size, outputsize):\n",
    "        self.weights = np.random.random([input_size,outputsize])\n",
    "        self.bias = np.random.random([outputsize])\n",
    "        self.threshold = 1\n",
    "    def sigmoid (self, x):\n",
    "        return (2/(1+np.exp(-x))-1)\n",
    "    def sigmoid_dot(self, x):\n",
    "        return (1-self.sigmoid(x)**2)/2\n",
    "    def forward(self, x):\n",
    "        y = self.sigmoid(x@self.weights)\n",
    "        return y#.reshape([-1,1])\n",
    "    def gradient_calculation(self, x, y):\n",
    "        y_hat = self.forward(x)\n",
    "        error = y - y_hat\n",
    "        grad_weights = error * x * (-self.sigmoid_dot(x))        \n",
    "        grad_weights = np.sum(grad_weights,0,keepdims = True).T\n",
    "        grad_bias = error * (-self.sigmoid_dot(x))\n",
    "        grad = {'weights':grad_weights,'bias':grad_bias}\n",
    "        return grad\n",
    "    def train(self, x, y, update_step_num = 10, learning_rate = 0.001):\n",
    "        for i in range(update_step_num):\n",
    "            grad = self.gradient_calculation(x, y)\n",
    "            self.weights = self.weights - learning_rate*grad['weights']\n",
    "            self.bias = self.bias - learning_rate*grad['bias']\n",
    "\n",
    "        "
   ]
  },
  {
   "cell_type": "code",
   "execution_count": 22,
   "metadata": {},
   "outputs": [
    {
     "name": "stdout",
     "output_type": "stream",
     "text": [
      "------- resutls -------\n",
      "[[0.        ]\n",
      " [0.36110308]\n",
      " [0.36110308]\n",
      " [0.63889692]]\n"
     ]
    }
   ],
   "source": [
    "x = np.array([[0,0],[0,1],[1,0],[1,1]])\n",
    "y = np.array([0,0,0,1]).reshape([-1,1])\n",
    "model = perceptron(x.shape[1])\n",
    "model.train(x,y, 10000,0.1)\n",
    "print('------- resutls -------')\n",
    "print(model.forward(x))\n"
   ]
  },
  {
   "cell_type": "code",
   "execution_count": null,
   "metadata": {},
   "outputs": [],
   "source": []
  }
 ],
 "metadata": {
  "kernelspec": {
   "display_name": "geo",
   "language": "python",
   "name": "python3"
  },
  "language_info": {
   "codemirror_mode": {
    "name": "ipython",
    "version": 3
   },
   "file_extension": ".py",
   "mimetype": "text/x-python",
   "name": "python",
   "nbconvert_exporter": "python",
   "pygments_lexer": "ipython3",
   "version": "3.9.7"
  }
 },
 "nbformat": 4,
 "nbformat_minor": 2
}
