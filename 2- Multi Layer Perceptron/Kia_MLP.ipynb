{
 "cells": [
  {
   "cell_type": "code",
   "execution_count": 1,
   "metadata": {},
   "outputs": [],
   "source": [
    "import numpy as np\n",
    "import matplotlib.pyplot as plt\n",
    "\n",
    "class MultilayerPerceptron:\n",
    "    def __init__(self, input_size, hidden_layer_sizes, output_size, activation_functions_type):\n",
    "        self.input_size = input_size\n",
    "        self.hidden_layer_sizes = hidden_layer_sizes\n",
    "        self.output_size = output_size\n",
    "        self.af_type = activation_functions_type\n",
    "        self.layers = len(hidden_layer_sizes) + 1 \n",
    "\n",
    "        self.weights = [np.random.random((input_size, hidden_layer_sizes[0]))]\n",
    "        self.biases = [np.random.random((1, hidden_layer_sizes[0]))]\n",
    "\n",
    "        for i in range(1, self.layers-1):\n",
    "            self.weights.append(np.random.random((hidden_layer_sizes[i - 1], hidden_layer_sizes[i])))\n",
    "            self.biases.append(np.random.random((1, hidden_layer_sizes[i])))\n",
    "        self.weights.append(np.random.random((hidden_layer_sizes[self.layers-2], output_size)))\n",
    "        self.biases.append(np.random.random((1, output_size)))\n",
    "    \n",
    "    def activation_function(self, x, type = 'sigmoid'):\n",
    "        if type == 'sigmoid':\n",
    "            return 2 / (1 + np.exp(-x)) - 1\n",
    "        elif type == 'linear':\n",
    "            return x\n",
    "    def activation_function_derivative(self, x, type = 'sigmoid'):\n",
    "        if type == 'sigmoid':\n",
    "            return (1 - self.activation_function(x, type = 'sigmoid') ** 2) / 2\n",
    "        elif type == 'linear':\n",
    "            return 1\n",
    "    # def sigmoid(self, x):\n",
    "    #     return 2 / (1 + np.exp(-x)) - 1\n",
    "\n",
    "    # def sigmoid_derivative(self, x):\n",
    "    #     return (1 - self.sigmoid(x) ** 2) / 2\n",
    "\n",
    "    def forward(self, x):\n",
    "        layer_output = x\n",
    "\n",
    "        for i in range(self.layers):\n",
    "            layer_input = layer_output @ self.weights[i] + self.biases[i]\n",
    "            layer_output = self.activation_function(layer_input, self.af_type[i-1])\n",
    "\n",
    "        return layer_output\n",
    "\n",
    "    def gradient_calculation(self, x, y):\n",
    "        layer_outputs = [x]\n",
    "        layer_inputs = []\n",
    "\n",
    "        # Forward pass\n",
    "        for i in range(self.layers):\n",
    "            layer_input = layer_outputs[i] @ self.weights[i] + self.biases[i]\n",
    "            layer_inputs.append(layer_input)\n",
    "            layer_output = self.activation_function(layer_input, self.af_type[i-1])\n",
    "            layer_outputs.append(layer_output)\n",
    "\n",
    "        # Backpropagation\n",
    "        error = y - layer_outputs[-1]\n",
    "        delta = error * self.activation_function_derivative(layer_inputs[-1], self.af_type[-1])\n",
    "        grads = [{'weights': 0, 'bias': 0} for _ in range(self.layers)]\n",
    "\n",
    "        for i in range(self.layers - 1, -1, -1):\n",
    "            grads[i]['weights'] = np.sum(np.expand_dims(delta,1)*np.expand_dims(layer_outputs[i],2),0) #layer_outputs[i].T @ delta\n",
    "            grads[i]['bias'] = np.sum(delta, axis=0, keepdims=True)\n",
    "            if i > 0:\n",
    "                error = delta @ self.weights[i].T\n",
    "                delta = error * self.activation_function_derivative(layer_inputs[i - 1], self.af_type[i - 1])\n",
    "\n",
    "        return grads\n",
    "\n",
    "    def train(self, x, y, update_step_num=10, learning_rate=0.001):\n",
    "        for i in range(update_step_num):\n",
    "            grads = self.gradient_calculation(x, y)\n",
    "\n",
    "            for j in range(self.layers):\n",
    "                self.weights[j] += learning_rate * grads[j]['weights']\n",
    "                self.biases[j] += learning_rate * grads[j]['bias']\n",
    "\n"
   ]
  },
  {
   "cell_type": "code",
   "execution_count": 2,
   "metadata": {},
   "outputs": [
    {
     "name": "stdout",
     "output_type": "stream",
     "text": [
      "Predictions:\n",
      "[[1.]\n",
      " [0.]\n",
      " [0.]\n",
      " [1.]]\n"
     ]
    }
   ],
   "source": [
    "input_size = 2\n",
    "hidden_layer_sizes = [4, 5, 6]  \n",
    "layers_af = ['sigmoid', 'sigmoid', 'linear']\n",
    "output_size = 1\n",
    "\n",
    "x = np.array([[0,0],[0,1],[1,0],[1,1]])\n",
    "y = np.array([1,0,0,1]).reshape([-1,1]) \n",
    "\n",
    "mlp = MultilayerPerceptron(input_size, hidden_layer_sizes, output_size, layers_af)\n",
    "mlp.train(x, y, update_step_num=10000, learning_rate=0.1)\n",
    "\n",
    "y_hat = mlp.forward(x)\n",
    "print(\"Predictions:\")\n",
    "print(y_hat)"
   ]
  },
  {
   "cell_type": "code",
   "execution_count": 71,
   "metadata": {},
   "outputs": [
    {
     "data": {
      "text/plain": [
       "['sigmoid', 'sigmoid', 'linear']"
      ]
     },
     "execution_count": 71,
     "metadata": {},
     "output_type": "execute_result"
    }
   ],
   "source": [
    "mlp.af_type"
   ]
  },
  {
   "cell_type": "code",
   "execution_count": 72,
   "metadata": {},
   "outputs": [
    {
     "name": "stderr",
     "output_type": "stream",
     "text": [
      "C:\\Users\\kiano\\AppData\\Local\\Temp\\ipykernel_23636\\2555901035.py:15: DeprecationWarning: Conversion of an array with ndim > 0 to a scalar is deprecated, and will error in future. Ensure you extract a single element from your array before performing this operation. (Deprecated NumPy 1.25.)\n",
      "  Y_plot[i, j] = Y[counter]\n"
     ]
    }
   ],
   "source": [
    "x = np.linspace(0,1,100)\n",
    "X = np.zeros([x.size**2, 2])\n",
    "counter = 0\n",
    "for i in range(x.size):\n",
    "    for j in range(x.size):\n",
    "        X[counter,:] = np.array([x[i], x[j]]) \n",
    "        counter += 1 \n",
    "# X, X = np.meshgrid(x, x)\n",
    "Y = mlp.forward(X)\n",
    "X2, X2 = np.meshgrid(x,x)\n",
    "Y_plot = np.copy(X2)\n",
    "counter = 0\n",
    "for i in range(x.size):\n",
    "    for j in range(x.size):\n",
    "        Y_plot[i, j] = Y[counter]\n",
    "        counter += 1 "
   ]
  },
  {
   "cell_type": "code",
   "execution_count": 73,
   "metadata": {},
   "outputs": [
    {
     "data": {
      "image/png": "[encoded data removed]",
      "text/plain": [
       "<Figure size 640x480 with 2 Axes>"
      ]
     },
     "metadata": {},
     "output_type": "display_data"
    }
   ],
   "source": [
    "X, Y = np.meshgrid(x, x)\n",
    "\n",
    "plt.contourf(X, Y, Y_plot, cmap='viridis')  \n",
    "\n",
    "plt.colorbar()\n",
    "\n",
    "plt.title('XOR')\n",
    "plt.xlabel('X axis')\n",
    "plt.ylabel('Y axis')\n",
    "\n",
    "plt.show()\n"
   ]
  },
  {
   "cell_type": "code",
   "execution_count": null,
   "metadata": {},
   "outputs": [],
   "source": []
  }
 ],
 "metadata": {
  "kernelspec": {
   "display_name": "geo",
   "language": "python",
   "name": "python3"
  },
  "language_info": {
   "codemirror_mode": {
    "name": "ipython",
    "version": 3
   },
   "file_extension": ".py",
   "mimetype": "text/x-python",
   "name": "python",
   "nbconvert_exporter": "python",
   "pygments_lexer": "ipython3",
   "version": "3.9.18"
  }
 },
 "nbformat": 4,
 "nbformat_minor": 2
}
