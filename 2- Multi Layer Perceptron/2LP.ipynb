{
 "cells": [
  {
   "cell_type": "markdown",
   "metadata": {},
   "source": [
    "![alt text](formula.png \"Title\")"
   ]
  },
  {
   "cell_type": "code",
   "execution_count": 11,
   "metadata": {},
   "outputs": [],
   "source": [
    "import numpy as np\n",
    "\n",
    "class TwolayerPerceptron:\n",
    "    def __init__(self, input_size, hidden_layer_size, output_size):\n",
    "        self.input_size = input_size\n",
    "        self.output_size = output_size\n",
    "        self.w1 = np.random.random((input_size, hidden_layer_size))\n",
    "        self.w2 = np.random.random((hidden_layer_size, output_size))\n",
    "        self.b1 = np.random.random((1, hidden_layer_size))\n",
    "        self.b2 = np.random.random((1, output_size))\n",
    "\n",
    "    def sigmoid(self, x):\n",
    "        return 2 / (1 + np.exp(-x)) - 1\n",
    "\n",
    "    def sigmoid_derivative(self, x):\n",
    "        return (1 - self.sigmoid(x) ** 2) / 2\n",
    "\n",
    "    def forward(self, x):\n",
    "        z1 = x@self.w1 + self.b1\n",
    "        a1 = self.sigmoid(z1)\n",
    "        z2 = a1@self.w2 + self.b2\n",
    "        a2 = self.sigmoid(z2)\n",
    "        return a2\n",
    "\n",
    "    def gradient_calculation(self, x, y):\n",
    "\n",
    "        # Forward pass\n",
    "        z1 = x@self.w1 + self.b1\n",
    "        a1 = self.sigmoid(z1)\n",
    "        z2 = a1@self.w2 + self.b2\n",
    "        a2 = self.sigmoid(z2)\n",
    "\n",
    "        # Backpropagation\n",
    "        error2 = a2 - y    #N * 1\n",
    "        delta2 = error2 * self.sigmoid_derivative(z2)\n",
    "        # delta 2 is N*1 and a1 N*3\n",
    "        grad_w2 = np.expand_dims(delta2,1) * np.expand_dims(a1, -1)   #N*1*1  N*3*1\n",
    "        grad_w2 = np.sum(grad_w2,0)  # 3*1\n",
    "        grad_b2 = np.sum(delta2, 0, keepdims=True)\n",
    "        error1 = np.expand_dims(delta2,1) * np.expand_dims(self.w2,0)   #N*1  3*1\n",
    "        error1 = np.sum(error1, -1)  #N*3\n",
    "        delta1 = error1 * self.sigmoid_derivative(z1)\n",
    "        # delta1 is N*3 and x is N*2  \n",
    "        grad_w1 = np.expand_dims(delta1,1) * np.expand_dims(x,-1) # N*2*3\n",
    "        grad_w1 = np.sum(grad_w1, 0)\n",
    "        grad_b1 = np.sum(delta1, 0, keepdims=True)\n",
    "                \n",
    "        return grad_w1, grad_w2, grad_b1, grad_b2\n",
    "\n",
    "    def train(self, x, y, update_step_num=10, learning_rate=0.001):\n",
    "        for i in range(update_step_num):\n",
    "            grad_w1, grad_w2, grad_b1, grad_b2 = self.gradient_calculation(x, y)\n",
    "\n",
    "            self.w1 -= learning_rate * grad_w1\n",
    "            self.w2 -= learning_rate * grad_w2\n",
    "            self.b1 -= learning_rate * grad_b1\n",
    "            self.b2 -= learning_rate * grad_b2"
   ]
  },
  {
   "cell_type": "code",
   "execution_count": 12,
   "metadata": {},
   "outputs": [
    {
     "name": "stdout",
     "output_type": "stream",
     "text": [
      "Predictions:\n",
      "[[9.85532587e-01]\n",
      " [5.46579753e-04]\n",
      " [4.98253776e-04]\n",
      " [9.81596638e-01]]\n"
     ]
    }
   ],
   "source": [
    "hidden_layer_sizes = 5\n",
    "x = np.array([[0,0],[0,1],[1,0],[1,1]])\n",
    "# y = np.array([[0,0,1],[0,0,0],[0,0,0],[0,0,1]])\n",
    "y = np.array([1,0,0,1]).reshape([-1,1]) \n",
    "\n",
    "mlp = TwolayerPerceptron(x.shape[1], hidden_layer_sizes, y.shape[1])\n",
    "mlp.train(x, y, update_step_num=10000, learning_rate=0.1)\n",
    "\n",
    "# Test the trained model\n",
    "predictions = mlp.forward(x)\n",
    "print(\"Predictions:\")\n",
    "print(predictions)"
   ]
  },
  {
   "cell_type": "code",
   "execution_count": 13,
   "metadata": {},
   "outputs": [],
   "source": [
    "# import matplotlib.pyplot as plt\n",
    "# t = np.linspace(0, 10, 1000).reshape([-1,1])\n",
    "# mm = TwolayerPerceptron(1,16,1)\n",
    "# X_train = np.sin(t)\n",
    "# Y_train = np.cos(t)\n",
    "# mm.train(X_train, Y_train,1000)\n",
    "\n",
    "# y_hat = mm.forward(X_train)\n",
    "# plt.plot(Y_train)\n",
    "# plt.plot(y_hat)"
   ]
  }
 ],
 "metadata": {
  "kernelspec": {
   "display_name": "geo",
   "language": "python",
   "name": "python3"
  },
  "language_info": {
   "codemirror_mode": {
    "name": "ipython",
    "version": 3
   },
   "file_extension": ".py",
   "mimetype": "text/x-python",
   "name": "python",
   "nbconvert_exporter": "python",
   "pygments_lexer": "ipython3",
   "version": "3.9.18"
  }
 },
 "nbformat": 4,
 "nbformat_minor": 2
}
